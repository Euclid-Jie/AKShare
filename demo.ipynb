{
 "cells": [
  {
   "cell_type": "code",
   "execution_count": 2,
   "metadata": {},
   "outputs": [],
   "source": [
    "import numpy as np\n",
    "import pandas as pd\n",
    "from AKData import AKData\n",
    "akdata = AKData(database_type=\"csv\")"
   ]
  },
  {
   "cell_type": "code",
   "execution_count": 5,
   "metadata": {},
   "outputs": [
    {
     "data": {
      "text/html": [
       "<div>\n",
       "<style scoped>\n",
       "    .dataframe tbody tr th:only-of-type {\n",
       "        vertical-align: middle;\n",
       "    }\n",
       "\n",
       "    .dataframe tbody tr th {\n",
       "        vertical-align: top;\n",
       "    }\n",
       "\n",
       "    .dataframe thead th {\n",
       "        text-align: right;\n",
       "    }\n",
       "</style>\n",
       "<table border=\"1\" class=\"dataframe\">\n",
       "  <thead>\n",
       "    <tr style=\"text-align: right;\">\n",
       "      <th></th>\n",
       "      <th>symbol</th>\n",
       "      <th>exchange</th>\n",
       "      <th>name</th>\n",
       "    </tr>\n",
       "  </thead>\n",
       "  <tbody>\n",
       "    <tr>\n",
       "      <th>0</th>\n",
       "      <td>V0</td>\n",
       "      <td>dce</td>\n",
       "      <td>PVC连续</td>\n",
       "    </tr>\n",
       "    <tr>\n",
       "      <th>1</th>\n",
       "      <td>P0</td>\n",
       "      <td>dce</td>\n",
       "      <td>棕榈油连续</td>\n",
       "    </tr>\n",
       "    <tr>\n",
       "      <th>2</th>\n",
       "      <td>B0</td>\n",
       "      <td>dce</td>\n",
       "      <td>豆二连续</td>\n",
       "    </tr>\n",
       "    <tr>\n",
       "      <th>3</th>\n",
       "      <td>M0</td>\n",
       "      <td>dce</td>\n",
       "      <td>豆粕连续</td>\n",
       "    </tr>\n",
       "    <tr>\n",
       "      <th>4</th>\n",
       "      <td>I0</td>\n",
       "      <td>dce</td>\n",
       "      <td>铁矿石连续</td>\n",
       "    </tr>\n",
       "    <tr>\n",
       "      <th>...</th>\n",
       "      <td>...</td>\n",
       "      <td>...</td>\n",
       "      <td>...</td>\n",
       "    </tr>\n",
       "    <tr>\n",
       "      <th>71</th>\n",
       "      <td>IC0</td>\n",
       "      <td>cffex</td>\n",
       "      <td>中证500指数期货连续</td>\n",
       "    </tr>\n",
       "    <tr>\n",
       "      <th>72</th>\n",
       "      <td>TS0</td>\n",
       "      <td>cffex</td>\n",
       "      <td>2年期国债期货连续</td>\n",
       "    </tr>\n",
       "    <tr>\n",
       "      <th>73</th>\n",
       "      <td>IM0</td>\n",
       "      <td>cffex</td>\n",
       "      <td>中证连续指数期货连续</td>\n",
       "    </tr>\n",
       "    <tr>\n",
       "      <th>74</th>\n",
       "      <td>SI0</td>\n",
       "      <td>gfex</td>\n",
       "      <td>工业硅连续</td>\n",
       "    </tr>\n",
       "    <tr>\n",
       "      <th>75</th>\n",
       "      <td>LC0</td>\n",
       "      <td>gfex</td>\n",
       "      <td>碳酸锂连续</td>\n",
       "    </tr>\n",
       "  </tbody>\n",
       "</table>\n",
       "<p>76 rows × 3 columns</p>\n",
       "</div>"
      ],
      "text/plain": [
       "   symbol exchange         name\n",
       "0      V0      dce        PVC连续\n",
       "1      P0      dce        棕榈油连续\n",
       "2      B0      dce         豆二连续\n",
       "3      M0      dce         豆粕连续\n",
       "4      I0      dce        铁矿石连续\n",
       "..    ...      ...          ...\n",
       "71    IC0    cffex  中证500指数期货连续\n",
       "72    TS0    cffex    2年期国债期货连续\n",
       "73    IM0    cffex   中证连续指数期货连续\n",
       "74    SI0     gfex        工业硅连续\n",
       "75    LC0     gfex        碳酸锂连续\n",
       "\n",
       "[76 rows x 3 columns]"
      ]
     },
     "execution_count": 5,
     "metadata": {},
     "output_type": "execute_result"
    }
   ],
   "source": [
    "# 主连代码查询\n",
    "akdata.futures_display_main_sina()"
   ]
  },
  {
   "cell_type": "code",
   "execution_count": 10,
   "metadata": {},
   "outputs": [
    {
     "name": "stdout",
     "output_type": "stream",
     "text": [
      "load data from futures_main_sina.csv\n"
     ]
    }
   ],
   "source": [
    "# 查询单只主连合约\n",
    "df = akdata.futures_main_sina(\n",
    "    symbol=\"P0\",\n",
    "    start_date=np.datetime64(\"2021-05-01\"),\n",
    "    end_date=np.datetime64(\"2024-09-24\"),\n",
    ")"
   ]
  },
  {
   "cell_type": "code",
   "execution_count": 11,
   "metadata": {},
   "outputs": [
    {
     "name": "stdout",
     "output_type": "stream",
     "text": [
      "rewrite index_hist_cni data\n"
     ]
    }
   ],
   "source": [
    "# 国证指数查询\n",
    "df = akdata.index_hist_cni(\n",
    "    symbol=\"399303\",\n",
    "    start_date=np.datetime64(\"2015-01-01\"),\n",
    "    end_date=np.datetime64(\"2024-09-24\"),\n",
    "    rewrite=False,\n",
    ")"
   ]
  },
  {
   "cell_type": "code",
   "execution_count": 16,
   "metadata": {},
   "outputs": [
    {
     "name": "stdout",
     "output_type": "stream",
     "text": [
      "load data from stock_zh_index_hist_csindex.csv\n",
      "rewrite stock_zh_index_hist_csindex data\n"
     ]
    }
   ],
   "source": [
    "# 中证指数查询\n",
    "df = akdata.stock_zh_index_hist_csindex(\n",
    "    symbol=\"000852\",\n",
    "    start_date=np.datetime64(\"2015-01-01\"),\n",
    "    end_date=np.datetime64(\"2024-09-24\"),\n",
    "    rewrite=False,\n",
    ")"
   ]
  }
 ],
 "metadata": {
  "kernelspec": {
   "display_name": "Python 3",
   "language": "python",
   "name": "python3"
  },
  "language_info": {
   "codemirror_mode": {
    "name": "ipython",
    "version": 3
   },
   "file_extension": ".py",
   "mimetype": "text/x-python",
   "name": "python",
   "nbconvert_exporter": "python",
   "pygments_lexer": "ipython3",
   "version": "3.12.4"
  }
 },
 "nbformat": 4,
 "nbformat_minor": 2
}
